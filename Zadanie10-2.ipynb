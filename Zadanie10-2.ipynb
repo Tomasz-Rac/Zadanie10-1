{
  "metadata": {
    "kernelspec": {
      "name": "python",
      "display_name": "Python (Pyodide)",
      "language": "python"
    },
    "language_info": {
      "codemirror_mode": {
        "name": "python",
        "version": 3
      },
      "file_extension": ".py",
      "mimetype": "text/x-python",
      "name": "python",
      "nbconvert_exporter": "python",
      "pygments_lexer": "ipython3",
      "version": "3.8"
    }
  },
  "nbformat_minor": 5,
  "nbformat": 4,
  "cells": [
    {
      "id": "ee582636-3235-412a-ac40-bb0bddc790b5",
      "cell_type": "code",
      "source": "Średnia_100 0.003978\n\nŚrednia_10000 0.000040\n\nMediana_100 :0.003981002361225949\n\nMediana_10000 :3.989421961080237e-05\n\nModa_100 :ModeResult(mode=np.float64(0.003955854208376874), count=np.int64(2))\n\nModa_10000 :ModeResult(mode=np.float64(3.989419432953482e-05), count=np.int64(2))\n\nKwartyle_100\nQ0_100: 0.003955854208376874\nQ1_100: 0.003970504313797675\nQ2_100: 0.003981002361225949\nQ3_100: 0.003987315182305886\nQ4_100: 0.003989422803677154\n\nKwartyle_10000\nQ0_10000: 3.989419432953482e-05\nQ1_10000: 3.9894209076657965e-05\nQ2_10000: 3.989421961080237e-05\nQ3_10000: 3.9894225931964694e-05\nQ4_10000: 3.9894228040142936e-05\n\nZakres_100 :3.356859530027987e-05\n\nZakres_10000 :3.371060811681488e-11\n\nIQR_100 :1.6810868508210577e-05\n\nIQR_10000 :1.685530672825529e-11\n\nWariancja_100 :1.0033540217904028e-10\n1.001675607065682e-05\n\nWariancja_10000 :1.0106431781892408e-22\n1.0053075042937065e-11\n\nOdchylenie standardowe_100 :1.001675607065682e-05\n\nOdchylenie standardowe_10000 :1.0053075042937065e-11\n\nStandaryzacja_100: -2.1464074961841106e-14\n\nOdchylenie standardowe_100: 1.0000500037503126\n\nStandaryzacja_100_MinMaxScaler: 0.6660366103632928\n\nOdchylenie standardowe_100_MinMaxScaler: 0.29839664070105754\n\nStandaryzacja_10000: -7.506583187932847e-10\n\nOdchylenie standardowe_10000: 1.0000500037503124\n\nStandaryzacja_10000_MinMaxScaler: 0.6665999437481165\n\nOdchylenie standardowe_10000_MinMaxScaler: 0.29821695912714485\n\nKorelacja (Pearson): 0.9999994172628253",
      "metadata": {
        "trusted": true
      },
      "outputs": [],
      "execution_count": null
    }
  ]
}