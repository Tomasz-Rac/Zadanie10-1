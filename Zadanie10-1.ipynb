{
  "metadata": {
    "kernelspec": {
      "name": "python",
      "display_name": "Python (Pyodide)",
      "language": "python"
    },
    "language_info": {
      "codemirror_mode": {
        "name": "python",
        "version": 3
      },
      "file_extension": ".py",
      "mimetype": "text/x-python",
      "name": "python",
      "nbconvert_exporter": "python",
      "pygments_lexer": "ipython3",
      "version": "3.8"
    }
  },
  "nbformat_minor": 5,
  "nbformat": 4,
  "cells": [
    {
      "id": "2aa4bc18-902b-4423-9a6d-23911b78b876",
      "cell_type": "code",
      "source": "(891,)\n32.0\n\nModeResult(mode=np.float64(8.05), count=np.int64(43))\n14.4542\nQ0: 0.0\nQ1: 8.0\nQ2: 14.4542\nQ3: 31.0\nQ4: 512.0\n\n",
      "metadata": {
        "trusted": true
      },
      "outputs": [],
      "execution_count": null
    }
  ]
}